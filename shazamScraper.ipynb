{
 "cells": [
  {
   "cell_type": "code",
   "execution_count": 1,
   "metadata": {},
   "outputs": [],
   "source": [
    "import requests\n",
    "import psycopg2\n",
    "import psycopg2.extras as pgex\n",
    "import pandas as pd\n",
    "import numpy as np\n",
    "import time\n",
    "import logging\n",
    "from datetime import datetime"
   ]
  },
  {
   "cell_type": "code",
   "execution_count": 2,
   "metadata": {},
   "outputs": [],
   "source": [
    "t = time.time()\n",
    "currentDate = time.strftime('%Y-%m-%d', time.localtime(t))"
   ]
  },
  {
   "cell_type": "code",
   "execution_count": 3,
   "metadata": {},
   "outputs": [],
   "source": [
    "###logging.basicConfig(filename=\"scriptLog.log\", filemode='w', force=\"true\", level=logging.INFO)"
   ]
  },
  {
   "cell_type": "code",
   "execution_count": 4,
   "metadata": {},
   "outputs": [],
   "source": [
    "logger = logging.getLogger('shazamablam')\n",
    "logger.setLevel(logging.INFO)\n",
    "\n",
    "fh = logging.FileHandler('scriptLog.log')\n",
    "fh.setLevel(logging.INFO)\n",
    "\n",
    "logger.addHandler(fh)"
   ]
  },
  {
   "cell_type": "code",
   "execution_count": 5,
   "metadata": {},
   "outputs": [],
   "source": [
    "logger.info(f'{currentDate}: SCRIPT START')"
   ]
  },
  {
   "cell_type": "code",
   "execution_count": 6,
   "metadata": {},
   "outputs": [],
   "source": [
    "import configparser\n",
    "\n",
    "config = configparser.ConfigParser()\n",
    "config.read('./database.ini')\n",
    "configHost = config.get('postgresql', 'host')\n",
    "configPort = config.get('postgresql', 'port')\n",
    "configDatabase = config.get('postgresql', 'database')\n",
    "configUser = config.get('postgresql', 'user')\n",
    "configPassword = config.get('postgresql', 'password')"
   ]
  },
  {
   "cell_type": "code",
   "execution_count": 7,
   "metadata": {},
   "outputs": [],
   "source": [
    "def addapt_numpy_int64(numpy_int64):\n",
    "    return AsIs(numpy_int64)\n",
    "\n",
    "#register_adapter(np.int64, addapt_numpy_int64)\n",
    "\n",
    "class Client:\n",
    "    \n",
    "    def __init__(self):\n",
    "        \n",
    "        self.conn = None\n",
    "        self.cur = None\n",
    "        \n",
    "    def connect(self):\n",
    "        self.conn = psycopg2.connect(\n",
    "            host=configHost,\n",
    "            port=configPort,\n",
    "            database=configDatabase,\n",
    "            user=configUser,\n",
    "            password=configPassword\n",
    "        )\n",
    "        self.cur = self.conn.cursor(cursor_factory=psycopg2.extras.DictCursor)\n",
    "    def disconnect(self):\n",
    "        if self.cur is not None:\n",
    "            self.cur.close()\n",
    "            self.cur = None\n",
    "        if self.conn is not None:\n",
    "            self.conn.close()\n",
    "            self.conn = None\n",
    "    def reset(self):\n",
    "        self.disconnect()\n",
    "        self.connect()\n",
    "    def getCurrentColumns(self):\n",
    "        return [i[0] for i in self.cur.description]       \n",
    "    def getDfFromCur(self):\n",
    "        cols = self.getCurrentColumns()\n",
    "        data = self.cur.fetchall()\n",
    "        return pd.DataFrame(data, columns=cols)"
   ]
  },
  {
   "cell_type": "code",
   "execution_count": 8,
   "metadata": {},
   "outputs": [],
   "source": [
    "# Utility Functions\n",
    "def dfColToTuple(dataframe):\n",
    "    return tuple(list(dataframe.columns))\n",
    "\n",
    "def df2List(dataframe): \n",
    "    return list(dataframe.itertuples(index=False, name=None))\n",
    "\n",
    "def removeDuplicatesForInsert(newDF, oldDF, colName):\n",
    "    ids = oldDF[colName].values\n",
    "    return newDF[~newDF[colName].isin(ids)].reset_index(drop=True)\n",
    "\n",
    "def getDuplicatesForInsert(newDF, oldDF, colName):\n",
    "    ids = oldDF[colName].values\n",
    "    return newDF[newDF[colName].isin(ids)].reset_index(drop=True)\n",
    "\n",
    "def tryToGetByKey(dictionary, key):\n",
    "    if (key in dictionary):\n",
    "        return dictionary[key]"
   ]
  },
  {
   "cell_type": "code",
   "execution_count": 9,
   "metadata": {},
   "outputs": [],
   "source": [
    "client = Client()\n",
    "client.connect()"
   ]
  },
  {
   "cell_type": "code",
   "execution_count": 10,
   "metadata": {},
   "outputs": [],
   "source": [
    "citiesDF = pd.read_csv('./cities.csv')\n",
    "cityArr = citiesDF['city_id'].values"
   ]
  },
  {
   "cell_type": "code",
   "execution_count": 11,
   "metadata": {},
   "outputs": [],
   "source": [
    "songArr = []\n",
    "artistSongRefArr = []\n",
    "artistArr = []"
   ]
  },
  {
   "cell_type": "code",
   "execution_count": 12,
   "metadata": {},
   "outputs": [
    {
     "name": "stdout",
     "output_type": "stream",
     "text": [
      "City: 1/202 processed.\n",
      "City: 2/202 processed.\n",
      "City: 3/202 processed.\n",
      "City: 4/202 processed.\n",
      "City: 5/202 processed.\n"
     ]
    },
    {
     "ename": "KeyboardInterrupt",
     "evalue": "",
     "output_type": "error",
     "traceback": [
      "\u001b[1;31m---------------------------------------------------------------------------\u001b[0m",
      "\u001b[1;31mKeyboardInterrupt\u001b[0m                         Traceback (most recent call last)",
      "\u001b[1;32m<ipython-input-12-7a2079ffc3e6>\u001b[0m in \u001b[0;36m<module>\u001b[1;34m\u001b[0m\n\u001b[0;32m     47\u001b[0m                 \u001b[0martistArr\u001b[0m\u001b[1;33m.\u001b[0m\u001b[0mappend\u001b[0m\u001b[1;33m(\u001b[0m\u001b[0martistToInsert\u001b[0m\u001b[1;33m)\u001b[0m\u001b[1;33m\u001b[0m\u001b[1;33m\u001b[0m\u001b[0m\n\u001b[0;32m     48\u001b[0m \u001b[1;33m\u001b[0m\u001b[0m\n\u001b[1;32m---> 49\u001b[1;33m     \u001b[0mtime\u001b[0m\u001b[1;33m.\u001b[0m\u001b[0msleep\u001b[0m\u001b[1;33m(\u001b[0m\u001b[1;36m1\u001b[0m\u001b[1;33m)\u001b[0m\u001b[1;33m\u001b[0m\u001b[1;33m\u001b[0m\u001b[0m\n\u001b[0m",
      "\u001b[1;31mKeyboardInterrupt\u001b[0m: "
     ]
    }
   ],
   "source": [
    "# loop through cityID and make requests\n",
    "logger.info(f'########### SCRAPE START ###########')\n",
    "\n",
    "for city_index, city_id in enumerate(cityArr): \n",
    "    requestString = f'https://www.shazam.com/shazam/v3/en-US/US/web/-/tracks/ip-city-chart-{city_id}?pageSize=200&startFrom=0'\n",
    "    response = requests.get(requestString)\n",
    "    data = response.json()\n",
    "    print(f'City: {city_index + 1}/202 processed.')\n",
    "    logger.info(f'City: {city_index + 1}/202 processed.')\n",
    "    \n",
    "    for songIndex, song in enumerate(data['tracks']):\n",
    "        background = \"\"\n",
    "        coverart = \"\"\n",
    "        coverarthq = \"\"\n",
    "        \n",
    "        if 'images' in song:        \n",
    "            background = tryToGetByKey(song['images'], 'background')\n",
    "            coverart = tryToGetByKey(song['images'], 'coverart')\n",
    "            coverarthq = tryToGetByKey(song['images'], 'coverarthq')\n",
    "              \n",
    "        songToInsert = {\n",
    "            'song_id': song['key'], \n",
    "            'song_name': song['title'],\n",
    "            'subtitle': song['subtitle'],\n",
    "            'shazam_url': song['url'],\n",
    "            'background': background,\n",
    "            'coverart': coverart,\n",
    "            'coverarthq': coverarthq,\n",
    "            'rank': songIndex + 1,\n",
    "            'city_id': city_id,\n",
    "            'record_date': currentDate\n",
    "        }\n",
    "        \n",
    "        songArr.append(songToInsert)\n",
    "        \n",
    "        if (song.get('artists') is not None): \n",
    "            for artist in song['artists']:\n",
    "                refToInsert = {\n",
    "                    'artist_id': artist['id'],\n",
    "                    'song_id': song['key']\n",
    "                }\n",
    "                artistToInsert = {\n",
    "                    'artist_id': artist['id'],\n",
    "                    'artist_name': artist['alias']\n",
    "                }\n",
    "                artistSongRefArr.append(refToInsert)\n",
    "                artistArr.append(artistToInsert)\n",
    "                \n",
    "    time.sleep(1)"
   ]
  },
  {
   "cell_type": "code",
   "execution_count": null,
   "metadata": {},
   "outputs": [],
   "source": [
    "# Data frames with duplicates\n",
    "\n",
    "songDF = pd.DataFrame(songArr)\n",
    "artistSongRefDF = pd.DataFrame(artistSongRefArr)\n",
    "artistDF = pd.DataFrame(artistArr)"
   ]
  },
  {
   "cell_type": "code",
   "execution_count": null,
   "metadata": {},
   "outputs": [],
   "source": [
    "# Create Records DF\n",
    "\n",
    "recordsDF = songDF[['song_id', 'rank', 'city_id', 'record_date']]\n",
    "recordsDFnoDup = recordsDF.drop_duplicates(subset=['song_id', 'city_id']).reset_index(drop=True)"
   ]
  },
  {
   "cell_type": "code",
   "execution_count": null,
   "metadata": {},
   "outputs": [],
   "source": [
    "# Song DF to be inserted\n",
    "\n",
    "parsedSongDF = songDF[['song_id', 'song_name', 'subtitle', 'background', 'coverart', 'coverarthq', 'shazam_url']]\n",
    "parsedSongDFnoDup = parsedSongDF.drop_duplicates(subset=['song_id']).reset_index(drop=True)"
   ]
  },
  {
   "cell_type": "code",
   "execution_count": null,
   "metadata": {
    "scrolled": false
   },
   "outputs": [],
   "source": [
    "# Artist DF to be inserted\n",
    "\n",
    "artistDFnoDup = artistDF.drop_duplicates(subset=['artist_id']).reset_index(drop=True)"
   ]
  },
  {
   "cell_type": "code",
   "execution_count": null,
   "metadata": {},
   "outputs": [],
   "source": [
    "# ArtistSongRefDF to be inserted\n",
    "\n",
    "artistSongRefDFnoDup = artistSongRefDF.drop_duplicates(subset=['artist_id', 'song_id']).reset_index(drop=True)"
   ]
  },
  {
   "cell_type": "code",
   "execution_count": null,
   "metadata": {},
   "outputs": [],
   "source": [
    "# Song insert query\n",
    "songQuery = \"\"\"\n",
    "    insert into shazamablam.song\n",
    "    ( \n",
    "        song_id, \n",
    "        song_name, \n",
    "        subtitle, \n",
    "        background, \n",
    "        coverart,\n",
    "        coverarthq,\n",
    "        shazam_url\n",
    "    ) \n",
    "    values %s\n",
    "\"\"\""
   ]
  },
  {
   "cell_type": "code",
   "execution_count": null,
   "metadata": {},
   "outputs": [],
   "source": [
    "# City insert query\n",
    "cityQuery = \"\"\"\n",
    "    insert into shazamablam.city\n",
    "    (\n",
    "        city_id, \n",
    "        city_name,\n",
    "        state_id\n",
    "    )\n",
    "    values %s\n",
    "\"\"\""
   ]
  },
  {
   "cell_type": "code",
   "execution_count": null,
   "metadata": {},
   "outputs": [],
   "source": [
    "artistQuery = \"\"\"\n",
    "    insert into shazamablam.artist\n",
    "    ( \n",
    "        artist_id, \n",
    "        artist_name\n",
    "    ) \n",
    "    values %s\n",
    "\"\"\""
   ]
  },
  {
   "cell_type": "code",
   "execution_count": null,
   "metadata": {},
   "outputs": [],
   "source": [
    "artistSongRefQuery = \"\"\"\n",
    "    insert into shazamablam.artist_song_ref\n",
    "    (\n",
    "        artist_id,\n",
    "        song_id\n",
    "    ) \n",
    "    values %s\n",
    "\"\"\""
   ]
  },
  {
   "cell_type": "code",
   "execution_count": null,
   "metadata": {},
   "outputs": [],
   "source": [
    "recordsQuery = \"\"\"\n",
    "    insert into shazamablam.record\n",
    "    (\n",
    "        song_id,\n",
    "        song_rank,\n",
    "        city_id\n",
    "    ) \n",
    "    values %s\n",
    "\"\"\""
   ]
  },
  {
   "cell_type": "code",
   "execution_count": null,
   "metadata": {},
   "outputs": [],
   "source": [
    "# Insert city into database\n",
    "\n",
    "client.cur.execute('select city_id from shazamablam.city')\n",
    "dbCities = client.getDfFromCur()\n",
    "\n",
    "citiesDF['city_id']  = citiesDF['city_id'].astype(str)\n",
    "\n",
    "cityPackage = removeDuplicatesForInsert(citiesDF, dbCities, 'city_id').reset_index(drop=True)\n",
    "\n",
    "pgex.execute_values(client.cur, cityQuery, df2List(cityPackage))"
   ]
  },
  {
   "cell_type": "code",
   "execution_count": null,
   "metadata": {
    "scrolled": true
   },
   "outputs": [],
   "source": [
    "# Insert song into database accounting for duplicates\n",
    "\n",
    "client.cur.execute('select song_id from shazamablam.song')\n",
    "dbSongs = client.getDfFromCur()\n",
    "\n",
    "songPackage = removeDuplicatesForInsert(parsedSongDFnoDup, dbSongs, 'song_id').reset_index(drop=True)"
   ]
  },
  {
   "cell_type": "code",
   "execution_count": null,
   "metadata": {},
   "outputs": [],
   "source": [
    "# Insert artist into database accounting for duplicates\n",
    "\n",
    "client.cur.execute('select artist_id from shazamablam.artist')\n",
    "dbArtists = client.getDfFromCur()\n",
    "\n",
    "artistPackage = removeDuplicatesForInsert(artistDFnoDup, dbArtists, 'artist_id').reset_index(drop=True)\n",
    "\n",
    "pgex.execute_values(client.cur, artistQuery, df2List(artistPackage))"
   ]
  },
  {
   "cell_type": "code",
   "execution_count": null,
   "metadata": {
    "scrolled": true
   },
   "outputs": [],
   "source": [
    "# Insert artist_song_ref \n",
    "\n",
    "refPackage = getDuplicatesForInsert(artistSongRefDFnoDup, songPackage, 'song_id').reset_index(drop=True)\n",
    "pgex.execute_values(client.cur, songQuery, df2List(songPackage))"
   ]
  },
  {
   "cell_type": "code",
   "execution_count": null,
   "metadata": {
    "scrolled": true
   },
   "outputs": [],
   "source": [
    "# Perform insertion query \n",
    "\n",
    "pgex.execute_values(client.cur, artistSongRefQuery, df2List(refPackage.applymap(str)))"
   ]
  },
  {
   "cell_type": "code",
   "execution_count": null,
   "metadata": {},
   "outputs": [],
   "source": [
    "# TODO Insert record into database\n",
    "\n",
    "client.cur.execute('select record_date from shazamablam.record')\n",
    "dbRecords = client.getDfFromCur()\n",
    "\n",
    "dbRecords['record_date']  = dbRecords['record_date'].astype(str)\n",
    "recordsDFnoDup['record_date']  = recordsDFnoDup['record_date'].astype(str)\n",
    "\n",
    "recPackage = removeDuplicatesForInsert(recordsDFnoDup, dbRecords, 'record_date')\n",
    "\n",
    "pgex.execute_values(client.cur, recordsQuery, df2List(recPackage[['song_id', 'rank', 'city_id']]))"
   ]
  },
  {
   "cell_type": "code",
   "execution_count": null,
   "metadata": {
    "scrolled": true
   },
   "outputs": [],
   "source": [
    "client.conn.commit()\n",
    "client.disconnect()"
   ]
  },
  {
   "cell_type": "code",
   "execution_count": null,
   "metadata": {},
   "outputs": [],
   "source": [
    "logger.info(f'{currentDate}: SCRIPT END ')"
   ]
  },
  {
   "cell_type": "code",
   "execution_count": null,
   "metadata": {},
   "outputs": [],
   "source": []
  }
 ],
 "metadata": {
  "kernelspec": {
   "display_name": "Python 3",
   "language": "python",
   "name": "python3"
  },
  "language_info": {
   "codemirror_mode": {
    "name": "ipython",
    "version": 3
   },
   "file_extension": ".py",
   "mimetype": "text/x-python",
   "name": "python",
   "nbconvert_exporter": "python",
   "pygments_lexer": "ipython3",
   "version": "3.8.10"
  }
 },
 "nbformat": 4,
 "nbformat_minor": 2
}